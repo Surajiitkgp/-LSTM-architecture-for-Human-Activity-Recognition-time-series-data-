{
 "cells": [
  {
   "cell_type": "code",
   "execution_count": 1,
   "metadata": {
    "collapsed": true,
    "id": "pSxpkr5GEPB3"
   },
   "outputs": [],
   "source": [
    "# Importing Numpy and Panda Library"
   ]
  },
  {
   "cell_type": "code",
   "execution_count": 2,
   "metadata": {
    "collapsed": true,
    "id": "VDc7QxLMEPB5"
   },
   "outputs": [],
   "source": [
    "import pandas as pd\n",
    "import numpy as np"
   ]
  },
  {
   "cell_type": "code",
   "execution_count": 4,
   "metadata": {
    "collapsed": true,
    "id": "o3IKokJwEPB7"
   },
   "outputs": [],
   "source": [
    "# It is a 6 class classification problem\n",
    "# Six class labels activities are mentioned below\n",
    "\n",
    "ACTIVITIES = {\n",
    "    0: 'WALKING',\n",
    "    1: 'WALKING_UPSTAIRS',\n",
    "    2: 'WALKING_DOWNSTAIRS',\n",
    "    3: 'SITTING',\n",
    "    4: 'STANDING',\n",
    "    5: 'LAYING',\n",
    "}\n",
    "\n",
    "# function to print the confusion matrix of activities\n",
    "def confusion_matrix(Y_true, Y_pred):\n",
    "    Y_true = pd.Series([ACTIVITIES[y] for y in np.argmax(Y_true, axis=1)])\n",
    "    Y_pred = pd.Series([ACTIVITIES[y] for y in np.argmax(Y_pred, axis=1)])\n",
    "\n",
    "    return pd.crosstab(Y_true, Y_pred, rownames=['True'], colnames=['Pred'])"
   ]
  },
  {
   "cell_type": "markdown",
   "metadata": {
    "id": "4RWoVJeiEPB8"
   },
   "source": [
    "### Data"
   ]
  },
  {
   "cell_type": "code",
   "execution_count": 5,
   "metadata": {
    "collapsed": true,
    "id": "Q_WUPClqEPB-"
   },
   "outputs": [],
   "source": [
    "# UCI data directory \n",
    "DATADIR = 'UCI_HAR_Dataset'"
   ]
  },
  {
   "cell_type": "code",
   "execution_count": 6,
   "metadata": {
    "collapsed": true,
    "id": "MzwQQKh_EPB-"
   },
   "outputs": [],
   "source": [
    "\n",
    "# Signals are from Accelerometer sensors and Gyroscope sensors\n",
    "# Sensors are triaxial\n",
    "# Therefore,signals are in x,y,z directions\n",
    "# Sensor signals are filtered to have only body acceleration\n",
    "# Triaxial acceleration from the accelerometer is total acceleration\n",
    "SIGNALS = [\n",
    "    \"body_acc_x\",\n",
    "    \"body_acc_y\",\n",
    "    \"body_acc_z\",\n",
    "    \"body_gyro_x\",\n",
    "    \"body_gyro_y\",\n",
    "    \"body_gyro_z\",\n",
    "    \"total_acc_x\",\n",
    "    \"total_acc_y\",\n",
    "    \"total_acc_z\"\n",
    "]"
   ]
  },
  {
   "cell_type": "code",
   "execution_count": 7,
   "metadata": {
    "id": "J-8TSIEKWlk5"
   },
   "outputs": [],
   "source": [
    "from google.colab import drive"
   ]
  },
  {
   "cell_type": "code",
   "execution_count": 8,
   "metadata": {
    "colab": {
     "base_uri": "https://localhost:8080/"
    },
    "id": "Yz2sRh5fWr_I",
    "outputId": "563944d3-7efd-4152-b7a7-a618f5a0cfd0"
   },
   "outputs": [
    {
     "name": "stdout",
     "output_type": "stream",
     "text": [
      "Mounted at /content/drive\n"
     ]
    }
   ],
   "source": [
    "drive.mount('/content/drive')"
   ]
  },
  {
   "cell_type": "code",
   "execution_count": 9,
   "metadata": {
    "collapsed": true,
    "id": "bzkvZkLGEPB_"
   },
   "outputs": [],
   "source": [
    "# function to read the data from csv file\n",
    "def _read_csv(filename):\n",
    "    return pd.read_csv(filename, delim_whitespace=True, header=None)\n",
    "\n",
    "# function to load the data\n",
    "def load_signals(subset):\n",
    "    signals_data = []\n",
    "\n",
    "    for signal in SIGNALS:\n",
    "        filename = f'/content/drive/MyDrive/HAR/UCI_HAR_Dataset/{subset}/Inertial Signals/{signal}_{subset}.txt'\n",
    "        signals_data.append(\n",
    "            _read_csv(filename).to_numpy()\n",
    "        ) \n",
    "\n",
    "    # Transpose function is used to change the dimensionality of output,\n",
    "    \n",
    "    # Resultant shape are (7352 train/2947 test samples, 128 timesteps, 9 signals)\n",
    "    return np.transpose(signals_data, (1, 2, 0))"
   ]
  },
  {
   "cell_type": "code",
   "execution_count": 10,
   "metadata": {
    "collapsed": true,
    "id": "T0g0cNzwEPCB"
   },
   "outputs": [],
   "source": [
    "\n",
    "def load_y(subset):\n",
    "    \"\"\"\n",
    "    Our objective is to predict the actvities which lebelled from 1 to 6 , So 1 to 6,\n",
    "    represents all six human activities respectively. We return a binary representation of \n",
    "    every sample objective as a 6 bits vector using One Hot Encoding\n",
    "    So for this task we use dummies variable\n",
    "    (https://pandas.pydata.org/pandas-docs/stable/generated/pandas.get_dummies.html)\n",
    "    \"\"\"\n",
    "    filename = f'/content/drive/MyDrive/HAR/UCI_HAR_Dataset/{subset}/y_{subset}.txt'\n",
    "    y = _read_csv(filename)[0]\n",
    "\n",
    "    return pd.get_dummies(y).to_numpy()"
   ]
  },
  {
   "cell_type": "code",
   "execution_count": 11,
   "metadata": {
    "collapsed": true,
    "id": "Y87zZ_NpEPCC"
   },
   "outputs": [],
   "source": [
    "def load_data():\n",
    "    \"\"\"\n",
    "    loading the dataset from multiple files,\n",
    "    which returns X_train, X_test, y_train, y_test\n",
    "    \"\"\"\n",
    "    X_train, X_test = load_signals('train'), load_signals('test')\n",
    "    y_train, y_test = load_y('train'), load_y('test')\n",
    "\n",
    "    return X_train, X_test, y_train, y_test"
   ]
  },
  {
   "cell_type": "code",
   "execution_count": 14,
   "metadata": {
    "collapsed": true,
    "id": "gT2mlFTVEPCD"
   },
   "outputs": [],
   "source": [
    "# Importing tensorflow API\n",
    "np.random.seed(40)\n",
    "import tensorflow as tf\n",
    "tf.random.set_seed(40)"
   ]
  },
  {
   "cell_type": "code",
   "execution_count": 15,
   "metadata": {
    "collapsed": true,
    "id": "Ny6vgDdlEPCE"
   },
   "outputs": [],
   "source": [
    "# Configuring to the session\n",
    "import tensorflow as tf\n",
    "session_conf = tf.compat.v1.ConfigProto(\n",
    "    intra_op_parallelism_threads=1,\n",
    "    inter_op_parallelism_threads=1\n",
    ")"
   ]
  },
  {
   "cell_type": "code",
   "execution_count": 16,
   "metadata": {
    "id": "sQLiNNCuEPCF"
   },
   "outputs": [],
   "source": [
    "# Import Keras through tensorflow\n",
    "from tensorflow.compat.v1.keras import backend as K\n",
    "sess = tf.compat.v1.Session(graph=tf.compat.v1.get_default_graph(), config=session_conf)\n",
    "K.set_session(sess)"
   ]
  },
  {
   "cell_type": "code",
   "execution_count": 17,
   "metadata": {
    "collapsed": true,
    "id": "bBKqI7IGEPCG"
   },
   "outputs": [],
   "source": [
    "# Importing libraries like LSTM layer,Sequential model,dense and dropout layer\n",
    "from keras.models import Sequential\n",
    "from keras.layers import LSTM\n",
    "from keras.layers.core import Dense, Dropout"
   ]
  },
  {
   "cell_type": "code",
   "execution_count": 19,
   "metadata": {
    "collapsed": true,
    "id": "f5roNIxKEPCG"
   },
   "outputs": [],
   "source": [
    "# Initializing the parameters\n",
    "epochs = 40\n",
    "batch_size = 16\n",
    "n_hidden = 32"
   ]
  },
  {
   "cell_type": "code",
   "execution_count": 20,
   "metadata": {
    "collapsed": true,
    "id": "uzmLjZz7EPCH"
   },
   "outputs": [],
   "source": [
    "# function to count the number of classes\n",
    "def _count_classes(y):\n",
    "    return len(set([tuple(category) for category in y]))"
   ]
  },
  {
   "cell_type": "code",
   "execution_count": 21,
   "metadata": {
    "collapsed": true,
    "id": "BKb_DwTgEPCH"
   },
   "outputs": [],
   "source": [
    "# Loading the train data and test data\n",
    "X_train, X_test, Y_train, Y_test = load_data()"
   ]
  },
  {
   "cell_type": "code",
   "execution_count": 22,
   "metadata": {
    "colab": {
     "base_uri": "https://localhost:8080/"
    },
    "id": "9irbifpQEPCH",
    "outputId": "9e9837cb-6afb-4639-8ccc-4f25e60124fe"
   },
   "outputs": [
    {
     "name": "stdout",
     "output_type": "stream",
     "text": [
      "128\n",
      "9\n",
      "7352\n"
     ]
    }
   ],
   "source": [
    "timesteps = len(X_train[0])\n",
    "input_dim = len(X_train[0][0])\n",
    "n_classes = _count_classes(Y_train)\n",
    "\n",
    "print(timesteps)\n",
    "print(input_dim)\n",
    "print(len(X_train))"
   ]
  },
  {
   "cell_type": "markdown",
   "metadata": {
    "id": "YUjRAM1dEPCJ"
   },
   "source": [
    "- Defining the Architecture of LSTM model"
   ]
  },
  {
   "cell_type": "code",
   "execution_count": 23,
   "metadata": {
    "colab": {
     "base_uri": "https://localhost:8080/"
    },
    "id": "qVFlVCvFEPCJ",
    "outputId": "dcf0b3e7-e00c-4124-8428-e63b1b17318a"
   },
   "outputs": [
    {
     "name": "stdout",
     "output_type": "stream",
     "text": [
      "Model: \"sequential\"\n",
      "_________________________________________________________________\n",
      " Layer (type)                Output Shape              Param #   \n",
      "=================================================================\n",
      " lstm (LSTM)                 (None, 32)                5376      \n",
      "                                                                 \n",
      " dropout (Dropout)           (None, 32)                0         \n",
      "                                                                 \n",
      " dense (Dense)               (None, 6)                 198       \n",
      "                                                                 \n",
      "=================================================================\n",
      "Total params: 5,574\n",
      "Trainable params: 5,574\n",
      "Non-trainable params: 0\n",
      "_________________________________________________________________\n"
     ]
    }
   ],
   "source": [
    "# Initiliazing the sequential model\n",
    "model = Sequential()\n",
    "\n",
    "# Configuring to the parameters\n",
    "model.add(LSTM(n_hidden, input_shape=(timesteps, input_dim)))\n",
    "\n",
    "# Adding dropout layer to overcome outfitting problem\n",
    "model.add(Dropout(0.5))\n",
    "\n",
    "# Adding dense output layer with activation function as Sigmoid\n",
    "model.add(Dense(n_classes, activation='sigmoid'))\n",
    "model.summary()"
   ]
  },
  {
   "cell_type": "code",
   "execution_count": 24,
   "metadata": {
    "collapsed": true,
    "id": "OkioOrCaEPCK"
   },
   "outputs": [],
   "source": [
    "# Now Compiling the model\n",
    "model.compile(loss='categorical_crossentropy',\n",
    "              optimizer='rmsprop',\n",
    "              metrics=['accuracy'])"
   ]
  },
  {
   "cell_type": "code",
   "execution_count": 47,
   "metadata": {
    "id": "epouEbaQEPCK"
   },
   "outputs": [],
   "source": [
    "# Training the model as follow\n",
    "#model.fit(X_train,Y_train,batch_size=batch_size,validation_data=(X_test, Y_test),epochs=epochs)"
   ]
  },
  {
   "cell_type": "code",
   "execution_count": 49,
   "metadata": {
    "colab": {
     "base_uri": "https://localhost:8080/"
    },
    "id": "ytSfCYQrALOP",
    "outputId": "ff92455f-8a33-4035-fbab-0a5a634f2f8f"
   },
   "outputs": [
    {
     "name": "stdout",
     "output_type": "stream",
     "text": [
      "Epoch 1/40\n",
      "460/460 [==============================] - 10s 22ms/step - loss: 0.1408 - accuracy: 0.9532 - val_loss: 0.1836 - val_accuracy: 0.9266\n",
      "Epoch 2/40\n",
      "460/460 [==============================] - 10s 22ms/step - loss: 0.1515 - accuracy: 0.9529 - val_loss: 0.1640 - val_accuracy: 0.9130\n",
      "Epoch 3/40\n",
      "460/460 [==============================] - 10s 22ms/step - loss: 0.1261 - accuracy: 0.9518 - val_loss: 0.1602 - val_accuracy: 0.9103\n",
      "Epoch 4/40\n",
      "460/460 [==============================] - 10s 22ms/step - loss: 0.1291 - accuracy: 0.9514 - val_loss: 0.0993 - val_accuracy: 0.9361\n",
      "Epoch 5/40\n",
      "460/460 [==============================] - 10s 23ms/step - loss: 0.1245 - accuracy: 0.9535 - val_loss: 0.1156 - val_accuracy: 0.9321\n",
      "Epoch 6/40\n",
      "460/460 [==============================] - 10s 22ms/step - loss: 0.1255 - accuracy: 0.9566 - val_loss: 0.1470 - val_accuracy: 0.9321\n",
      "Epoch 7/40\n",
      "460/460 [==============================] - 10s 22ms/step - loss: 0.1496 - accuracy: 0.9538 - val_loss: 0.1286 - val_accuracy: 0.9443\n",
      "Epoch 8/40\n",
      "460/460 [==============================] - 10s 22ms/step - loss: 0.1342 - accuracy: 0.9508 - val_loss: 0.0984 - val_accuracy: 0.9321\n",
      "Epoch 9/40\n",
      "460/460 [==============================] - 10s 22ms/step - loss: 0.1379 - accuracy: 0.9544 - val_loss: 0.1651 - val_accuracy: 0.8777\n",
      "Epoch 10/40\n",
      "460/460 [==============================] - 10s 22ms/step - loss: 0.1211 - accuracy: 0.9554 - val_loss: 0.1675 - val_accuracy: 0.9280\n",
      "Epoch 11/40\n",
      "460/460 [==============================] - 10s 22ms/step - loss: 0.1222 - accuracy: 0.9557 - val_loss: 0.1584 - val_accuracy: 0.9226\n",
      "Epoch 12/40\n",
      "460/460 [==============================] - 10s 22ms/step - loss: 0.1342 - accuracy: 0.9536 - val_loss: 0.1921 - val_accuracy: 0.9307\n",
      "Epoch 13/40\n",
      "460/460 [==============================] - 10s 22ms/step - loss: 0.1380 - accuracy: 0.9546 - val_loss: 0.1218 - val_accuracy: 0.9307\n",
      "Epoch 14/40\n",
      "460/460 [==============================] - 10s 22ms/step - loss: 0.1196 - accuracy: 0.9551 - val_loss: 0.2623 - val_accuracy: 0.9307\n",
      "Epoch 15/40\n",
      "460/460 [==============================] - 10s 22ms/step - loss: 0.1315 - accuracy: 0.9528 - val_loss: 0.1409 - val_accuracy: 0.9389\n",
      "Epoch 16/40\n",
      "460/460 [==============================] - 10s 22ms/step - loss: 0.1198 - accuracy: 0.9550 - val_loss: 0.1148 - val_accuracy: 0.9307\n",
      "Epoch 17/40\n",
      "460/460 [==============================] - 10s 22ms/step - loss: 0.1240 - accuracy: 0.9532 - val_loss: 0.1302 - val_accuracy: 0.9266\n",
      "Epoch 18/40\n",
      "460/460 [==============================] - 10s 22ms/step - loss: 0.1325 - accuracy: 0.9512 - val_loss: 0.2387 - val_accuracy: 0.9321\n",
      "Epoch 19/40\n",
      "460/460 [==============================] - 10s 22ms/step - loss: 0.1208 - accuracy: 0.9533 - val_loss: 0.1724 - val_accuracy: 0.9321\n",
      "Epoch 20/40\n",
      "460/460 [==============================] - 10s 22ms/step - loss: 0.1219 - accuracy: 0.9548 - val_loss: 0.1368 - val_accuracy: 0.9361\n",
      "Epoch 21/40\n",
      "460/460 [==============================] - 10s 22ms/step - loss: 0.1336 - accuracy: 0.9512 - val_loss: 0.1332 - val_accuracy: 0.9144\n",
      "Epoch 22/40\n",
      "460/460 [==============================] - 10s 22ms/step - loss: 0.1379 - accuracy: 0.9532 - val_loss: 0.1306 - val_accuracy: 0.9212\n",
      "Epoch 23/40\n",
      "460/460 [==============================] - 10s 22ms/step - loss: 0.2513 - accuracy: 0.9423 - val_loss: 0.0922 - val_accuracy: 0.9565\n",
      "Epoch 24/40\n",
      "460/460 [==============================] - 10s 22ms/step - loss: 0.1315 - accuracy: 0.9551 - val_loss: 0.0844 - val_accuracy: 0.9565\n",
      "Epoch 25/40\n",
      "460/460 [==============================] - 10s 22ms/step - loss: 0.1209 - accuracy: 0.9558 - val_loss: 0.1285 - val_accuracy: 0.9375\n",
      "Epoch 26/40\n",
      "460/460 [==============================] - 10s 22ms/step - loss: 0.1107 - accuracy: 0.9562 - val_loss: 0.0897 - val_accuracy: 0.9443\n",
      "Epoch 27/40\n",
      "460/460 [==============================] - 10s 22ms/step - loss: 0.1743 - accuracy: 0.9493 - val_loss: 0.1127 - val_accuracy: 0.9307\n",
      "Epoch 28/40\n",
      "460/460 [==============================] - 10s 22ms/step - loss: 0.1304 - accuracy: 0.9525 - val_loss: 0.1027 - val_accuracy: 0.9307\n",
      "Epoch 29/40\n",
      "460/460 [==============================] - 10s 22ms/step - loss: 0.1213 - accuracy: 0.9523 - val_loss: 0.1102 - val_accuracy: 0.9348\n",
      "Epoch 30/40\n",
      "460/460 [==============================] - 10s 22ms/step - loss: 0.1147 - accuracy: 0.9559 - val_loss: 0.2333 - val_accuracy: 0.9158\n",
      "Epoch 31/40\n",
      "460/460 [==============================] - 10s 22ms/step - loss: 0.1282 - accuracy: 0.9543 - val_loss: 0.2435 - val_accuracy: 0.9334\n",
      "Epoch 32/40\n",
      "460/460 [==============================] - 10s 22ms/step - loss: 0.1145 - accuracy: 0.9553 - val_loss: 0.1041 - val_accuracy: 0.9361\n",
      "Epoch 33/40\n",
      "460/460 [==============================] - 10s 22ms/step - loss: 0.1317 - accuracy: 0.9531 - val_loss: 0.1179 - val_accuracy: 0.9307\n",
      "Epoch 34/40\n",
      "460/460 [==============================] - 10s 22ms/step - loss: 0.1209 - accuracy: 0.9546 - val_loss: 0.1179 - val_accuracy: 0.9361\n",
      "Epoch 35/40\n",
      "460/460 [==============================] - 10s 22ms/step - loss: 0.1357 - accuracy: 0.9538 - val_loss: 0.1029 - val_accuracy: 0.9375\n",
      "Epoch 36/40\n",
      "460/460 [==============================] - 10s 22ms/step - loss: 0.1271 - accuracy: 0.9521 - val_loss: 0.0956 - val_accuracy: 0.9389\n",
      "Epoch 37/40\n",
      "460/460 [==============================] - 10s 22ms/step - loss: 0.1226 - accuracy: 0.9535 - val_loss: 0.1124 - val_accuracy: 0.9280\n",
      "Epoch 38/40\n",
      "460/460 [==============================] - 10s 23ms/step - loss: 0.1127 - accuracy: 0.9561 - val_loss: 0.0985 - val_accuracy: 0.9348\n",
      "Epoch 39/40\n",
      "460/460 [==============================] - 10s 22ms/step - loss: 0.1633 - accuracy: 0.9533 - val_loss: 0.1208 - val_accuracy: 0.9524\n",
      "Epoch 40/40\n",
      "460/460 [==============================] - 10s 22ms/step - loss: 0.1612 - accuracy: 0.9525 - val_loss: 0.0910 - val_accuracy: 0.9361\n"
     ]
    }
   ],
   "source": [
    "import keras\n",
    "from matplotlib import pyplot as plt\n",
    "history = model.fit(X_train, Y_train,batch_size=batch_size,validation_data=(X_test, Y_test),epochs=epochs)\n"
   ]
  },
  {
   "cell_type": "code",
   "execution_count": 50,
   "metadata": {
    "colab": {
     "base_uri": "https://localhost:8080/"
    },
    "id": "42yONekBFcfw",
    "outputId": "716dcfca-a15b-4896-ed20-a2ba51d27846"
   },
   "outputs": [
    {
     "name": "stdout",
     "output_type": "stream",
     "text": [
      "Pred                LAYING  SITTING  ...  WALKING_DOWNSTAIRS  WALKING_UPSTAIRS\n",
      "True                                 ...                                      \n",
      "LAYING                 494        0  ...                   0                43\n",
      "SITTING                  6      411  ...                   0                17\n",
      "STANDING                 0       92  ...                   0                 5\n",
      "WALKING                  0        0  ...                   9                19\n",
      "WALKING_DOWNSTAIRS       0        0  ...                 415                 4\n",
      "WALKING_UPSTAIRS         0        1  ...                   1               442\n",
      "\n",
      "[6 rows x 6 columns]\n"
     ]
    }
   ],
   "source": [
    "# Confusion Matrix Plotting\n",
    "print(confusion_matrix(Y_test, model.predict(X_test)))"
   ]
  },
  {
   "cell_type": "code",
   "execution_count": 56,
   "metadata": {
    "colab": {
     "base_uri": "https://localhost:8080/"
    },
    "id": "RMx1Z6k4JPUL",
    "outputId": "16de7629-da92-451c-99bc-67c776468a8d"
   },
   "outputs": [
    {
     "name": "stdout",
     "output_type": "stream",
     "text": [
      "[0.1408463716506958, 0.1514972597360611, 0.12605464458465576, 0.12912628054618835, 0.12449231743812561, 0.12545956671237946, 0.14964959025382996, 0.13421569764614105, 0.13792602717876434, 0.12110474705696106, 0.12220092862844467, 0.13417303562164307, 0.13802583515644073, 0.11960551142692566, 0.13151022791862488, 0.11982572823762894, 0.12397557497024536, 0.13246403634548187, 0.12076351791620255, 0.12192162126302719, 0.13362865149974823, 0.1378704160451889, 0.25132307410240173, 0.1314776986837387, 0.1208517849445343, 0.1106567233800888, 0.1743401437997818, 0.1303679496049881, 0.12129189819097519, 0.11466282606124878, 0.1282155066728592, 0.11452572047710419, 0.13173815608024597, 0.12090201675891876, 0.13569846749305725, 0.12705542147159576, 0.1226372942328453, 0.11265794932842255, 0.1633245199918747, 0.16119599342346191]\n"
     ]
    }
   ],
   "source": [
    "# printing history of loss\n",
    "print(history.history['loss'])\n"
   ]
  },
  {
   "cell_type": "code",
   "execution_count": 57,
   "metadata": {
    "colab": {
     "base_uri": "https://localhost:8080/"
    },
    "id": "QJh8I4eJJWOl",
    "outputId": "ad3193c5-0419-4489-f0f8-621ab8012250"
   },
   "outputs": [
    {
     "name": "stdout",
     "output_type": "stream",
     "text": [
      "[0.9532099962234497, 0.9529379606246948, 0.9518498182296753, 0.951441764831543, 0.9534820318222046, 0.9566104412078857, 0.9537540674209595, 0.9507616758346558, 0.9544341564178467, 0.9553862810134888, 0.9556583166122437, 0.953618049621582, 0.9545701742172241, 0.9551142454147339, 0.9528019428253174, 0.9549782276153564, 0.9532099962234497, 0.9511697292327881, 0.9533460140228271, 0.954842209815979, 0.9511697292327881, 0.9532099962234497, 0.9423286318778992, 0.9551142454147339, 0.9557943344116211, 0.9562023878097534, 0.9492654800415039, 0.9525299072265625, 0.9522578716278076, 0.9559303522109985, 0.9542981386184692, 0.9552502632141113, 0.9530739784240723, 0.9545701742172241, 0.9537540674209595, 0.9521218538284302, 0.9534820318222046, 0.956066370010376, 0.9533460140228271, 0.9525299072265625]\n"
     ]
    }
   ],
   "source": [
    "# printing history of accuracy\n",
    "print(history.history['accuracy'])"
   ]
  },
  {
   "cell_type": "code",
   "execution_count": 58,
   "metadata": {
    "colab": {
     "base_uri": "https://localhost:8080/"
    },
    "id": "JPjK_ETIJWfV",
    "outputId": "dbc058dd-b661-43ef-c04a-524de4b5747f"
   },
   "outputs": [
    {
     "name": "stdout",
     "output_type": "stream",
     "text": [
      "[0.183623269200325, 0.16395094990730286, 0.16023984551429749, 0.09932412952184677, 0.1155998706817627, 0.14703790843486786, 0.1285877525806427, 0.09842649847269058, 0.16507811844348907, 0.16750091314315796, 0.15837179124355316, 0.1920604258775711, 0.12183729559183121, 0.2622870206832886, 0.14086884260177612, 0.11481978744268417, 0.13015861809253693, 0.23873700201511383, 0.1723933070898056, 0.13676171004772186, 0.13324670493602753, 0.13057328760623932, 0.09216928482055664, 0.08443762362003326, 0.12845651805400848, 0.08971630036830902, 0.11267653852701187, 0.10267557203769684, 0.11020059138536453, 0.23333893716335297, 0.2434791475534439, 0.10406099259853363, 0.11789515614509583, 0.117889404296875, 0.1029311865568161, 0.09562376141548157, 0.11243274062871933, 0.09851261973381042, 0.12075850367546082, 0.09103484451770782]\n"
     ]
    }
   ],
   "source": [
    "# printing history of validation loss\n",
    "print(history.history['val_loss'])"
   ]
  },
  {
   "cell_type": "code",
   "execution_count": 59,
   "metadata": {
    "colab": {
     "base_uri": "https://localhost:8080/"
    },
    "id": "wayX9hP8JWqV",
    "outputId": "47990e7d-7ef6-4b1f-d9b8-16a41e01f1fd"
   },
   "outputs": [
    {
     "name": "stdout",
     "output_type": "stream",
     "text": [
      "[0.926630437374115, 0.9130434989929199, 0.9103260636329651, 0.936141312122345, 0.9320651888847351, 0.9320651888847351, 0.9442934989929199, 0.9320651888847351, 0.8777173757553101, 0.92798912525177, 0.9225543737411499, 0.9307065010070801, 0.9307065010070801, 0.9307065010070801, 0.938858687877655, 0.9307065010070801, 0.926630437374115, 0.9320651888847351, 0.9320651888847351, 0.936141312122345, 0.914402186870575, 0.9211956262588501, 0.95652174949646, 0.95652174949646, 0.9375, 0.9442934989929199, 0.9307065010070801, 0.9307065010070801, 0.9347826242446899, 0.91576087474823, 0.9334239363670349, 0.936141312122345, 0.9307065010070801, 0.936141312122345, 0.9375, 0.938858687877655, 0.92798912525177, 0.9347826242446899, 0.9524456262588501, 0.936141312122345]\n"
     ]
    }
   ],
   "source": [
    "# printing history of validation accuracy\n",
    "print(history.history['val_accuracy'])"
   ]
  },
  {
   "cell_type": "code",
   "execution_count": 60,
   "metadata": {
    "colab": {
     "base_uri": "https://localhost:8080/",
     "height": 295
    },
    "id": "893hFbV1EnSo",
    "outputId": "85f956e1-638c-444d-9eb2-08bb821fce32"
   },
   "outputs": [
    {
     "data": {
      "image/png": "[encoded data removed]",
      "text/plain": [
       "<Figure size 432x288 with 1 Axes>"
      ]
     },
     "metadata": {
      "needs_background": "light"
     },
     "output_type": "display_data"
    }
   ],
   "source": [
    "# Plotting the accuracy of model\n",
    "plt.plot(history.history['accuracy'])\n",
    "plt.plot(history.history['val_accuracy'])\n",
    "plt.title('accuracy of model')\n",
    "plt.ylabel('accuracy')\n",
    "plt.xlabel('epoch')\n",
    "plt.legend(['train', 'val'], loc='upper left')\n",
    "plt.show()"
   ]
  },
  {
   "cell_type": "code",
   "execution_count": 61,
   "metadata": {
    "colab": {
     "base_uri": "https://localhost:8080/",
     "height": 295
    },
    "id": "n9fvtQSAE5-l",
    "outputId": "f835d1fe-52db-4eca-abda-90d654fb68aa"
   },
   "outputs": [
    {
     "data": {
      "image/png": "[encoded data removed]",
      "text/plain": [
       "<Figure size 432x288 with 1 Axes>"
      ]
     },
     "metadata": {
      "needs_background": "light"
     },
     "output_type": "display_data"
    }
   ],
   "source": [
    "# Plotting the loss of model\n",
    "plt.plot(history.history['loss'])\n",
    "plt.plot(history.history['val_loss'])\n",
    "plt.title('loss of model')\n",
    "plt.ylabel('loss')\n",
    "plt.xlabel('epoch')\n",
    "plt.legend(['train', 'val'], loc='upper left')\n",
    "plt.show()"
   ]
  },
  {
   "cell_type": "markdown",
   "metadata": {
    "id": "haV15816EPCM"
   },
   "source": [
    "- With a simple 2 layers of LSTM architecture we got 93.61% accuracy and a loss of 0.0910\n",
    "- We can further imporve the performace of our LSTM Architecture with Hyperparameter tuning"
   ]
  }
 ],
 "metadata": {
  "accelerator": "GPU",
  "colab": {
   "collapsed_sections": [],
   "name": "HAR_LSTM_checkpoint.ipynb",
   "provenance": []
  },
  "kernelspec": {
   "display_name": "Python 3 (ipykernel)",
   "language": "python",
   "name": "python3"
  },
  "language_info": {
   "codemirror_mode": {
    "name": "ipython",
    "version": 3
   },
   "file_extension": ".py",
   "mimetype": "text/x-python",
   "name": "python",
   "nbconvert_exporter": "python",
   "pygments_lexer": "ipython3",
   "version": "3.8.5"
  }
 },
 "nbformat": 4,
 "nbformat_minor": 1
}
